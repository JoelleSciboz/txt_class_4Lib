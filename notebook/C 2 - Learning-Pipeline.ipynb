{
 "cells": [
  {
   "cell_type": "markdown",
   "metadata": {},
   "source": [
    "# C 2 - Learning-Pipeline"
   ]
  },
  {
   "cell_type": "code",
   "execution_count": 1,
   "metadata": {},
   "outputs": [],
   "source": [
    "import pandas as pd\n",
    "import numpy as np\n",
    "# Preprocessing\n",
    "from sklearn.preprocessing import MultiLabelBinarizer\n",
    "from sklearn.feature_extraction.text import TfidfVectorizer\n",
    "# Learning\n",
    "# Classifiers\n",
    "from sklearn.multiclass import OneVsRestClassifier\n",
    "from sklearn.svm import LinearSVC\n",
    "from sklearn.naive_bayes import MultinomialNB\n",
    "from sklearn.linear_model import LogisticRegression\n",
    "# Processes and metrics\n",
    "from sklearn.model_selection import train_test_split, GridSearchCV\n",
    "from sklearn.pipeline import Pipeline\n",
    "from sklearn.pipeline import FeatureUnion\n",
    "from sklearn.metrics import classification_report"
   ]
  },
  {
   "cell_type": "markdown",
   "metadata": {},
   "source": [
    "## Import datasets"
   ]
  },
  {
   "cell_type": "code",
   "execution_count": 2,
   "metadata": {},
   "outputs": [],
   "source": [
    "dataset = pd.read_csv('../data/B_engineering/sc_2000_2017.csv', index_col='record_id')"
   ]
  },
  {
   "cell_type": "code",
   "execution_count": 12,
   "metadata": {},
   "outputs": [
    {
     "data": {
      "text/html": [
       "<div>\n",
       "<style scoped>\n",
       "    .dataframe tbody tr th:only-of-type {\n",
       "        vertical-align: middle;\n",
       "    }\n",
       "\n",
       "    .dataframe tbody tr th {\n",
       "        vertical-align: top;\n",
       "    }\n",
       "\n",
       "    .dataframe thead th {\n",
       "        text-align: right;\n",
       "    }\n",
       "</style>\n",
       "<table border=\"1\" class=\"dataframe\">\n",
       "  <thead>\n",
       "    <tr style=\"text-align: right;\">\n",
       "      <th></th>\n",
       "      <th>Unnamed: 0</th>\n",
       "      <th>year</th>\n",
       "      <th>geo</th>\n",
       "      <th>topics</th>\n",
       "      <th>symbol</th>\n",
       "      <th>title</th>\n",
       "      <th>url_English</th>\n",
       "      <th>text</th>\n",
       "      <th>main_body</th>\n",
       "      <th>topics_geo</th>\n",
       "      <th>geo_count</th>\n",
       "      <th>topics_count</th>\n",
       "      <th>topics_geo_count</th>\n",
       "    </tr>\n",
       "    <tr>\n",
       "      <th>record_id</th>\n",
       "      <th></th>\n",
       "      <th></th>\n",
       "      <th></th>\n",
       "      <th></th>\n",
       "      <th></th>\n",
       "      <th></th>\n",
       "      <th></th>\n",
       "      <th></th>\n",
       "      <th></th>\n",
       "      <th></th>\n",
       "      <th></th>\n",
       "      <th></th>\n",
       "      <th></th>\n",
       "    </tr>\n",
       "  </thead>\n",
       "  <tbody>\n",
       "    <tr>\n",
       "      <th>455823</th>\n",
       "      <td>0</td>\n",
       "      <td>2001</td>\n",
       "      <td>NaN</td>\n",
       "      <td>NON-ALIGNED COUNTRIES||INTERNATIONAL SECURITY|...</td>\n",
       "      <td>A/56/682||S/2001/1159</td>\n",
       "      <td>Letter dated 2001/12/06 from the Permanent Rep...</td>\n",
       "      <td>http://digitallibrary.un.org/record/455823/fil...</td>\n",
       "      <td>A/56/682–S/2001/1159 United Nations General As...</td>\n",
       "      <td>A,S</td>\n",
       "      <td>NON-ALIGNED COUNTRIES||INTERNATIONAL SECURITY|...</td>\n",
       "      <td>0</td>\n",
       "      <td>6</td>\n",
       "      <td>6</td>\n",
       "    </tr>\n",
       "    <tr>\n",
       "      <th>420454</th>\n",
       "      <td>5</td>\n",
       "      <td>2000</td>\n",
       "      <td>NaN</td>\n",
       "      <td>DEVELOPMENT||INTERNATIONAL TRADE||GENETIC ENGI...</td>\n",
       "      <td>A/55/257||S/2000/766</td>\n",
       "      <td>Letter dated 2000/08/01 from the Chargé d'affa...</td>\n",
       "      <td>http://digitallibrary.un.org/record/420454/fil...</td>\n",
       "      <td>A/55/257–S/2000/766 United Nations General Ass...</td>\n",
       "      <td>A,S</td>\n",
       "      <td>DEVELOPMENT||INTERNATIONAL TRADE||GENETIC ENGI...</td>\n",
       "      <td>0</td>\n",
       "      <td>11</td>\n",
       "      <td>11</td>\n",
       "    </tr>\n",
       "  </tbody>\n",
       "</table>\n",
       "</div>"
      ],
      "text/plain": [
       "           Unnamed: 0  year  geo  \\\n",
       "record_id                          \n",
       "455823              0  2001  NaN   \n",
       "420454              5  2000  NaN   \n",
       "\n",
       "                                                      topics  \\\n",
       "record_id                                                      \n",
       "455823     NON-ALIGNED COUNTRIES||INTERNATIONAL SECURITY|...   \n",
       "420454     DEVELOPMENT||INTERNATIONAL TRADE||GENETIC ENGI...   \n",
       "\n",
       "                          symbol  \\\n",
       "record_id                          \n",
       "455823     A/56/682||S/2001/1159   \n",
       "420454      A/55/257||S/2000/766   \n",
       "\n",
       "                                                       title  \\\n",
       "record_id                                                      \n",
       "455823     Letter dated 2001/12/06 from the Permanent Rep...   \n",
       "420454     Letter dated 2000/08/01 from the Chargé d'affa...   \n",
       "\n",
       "                                                 url_English  \\\n",
       "record_id                                                      \n",
       "455823     http://digitallibrary.un.org/record/455823/fil...   \n",
       "420454     http://digitallibrary.un.org/record/420454/fil...   \n",
       "\n",
       "                                                        text main_body  \\\n",
       "record_id                                                                \n",
       "455823     A/56/682–S/2001/1159 United Nations General As...       A,S   \n",
       "420454     A/55/257–S/2000/766 United Nations General Ass...       A,S   \n",
       "\n",
       "                                                  topics_geo  geo_count  \\\n",
       "record_id                                                                 \n",
       "455823     NON-ALIGNED COUNTRIES||INTERNATIONAL SECURITY|...          0   \n",
       "420454     DEVELOPMENT||INTERNATIONAL TRADE||GENETIC ENGI...          0   \n",
       "\n",
       "           topics_count  topics_geo_count  \n",
       "record_id                                  \n",
       "455823                6                 6  \n",
       "420454               11                11  "
      ]
     },
     "execution_count": 12,
     "metadata": {},
     "output_type": "execute_result"
    }
   ],
   "source": [
    "dataset.head(2)"
   ]
  },
  {
   "cell_type": "code",
   "execution_count": 4,
   "metadata": {},
   "outputs": [],
   "source": [
    "labels = pd.read_csv('../data/C_learning/sc_2000_2017_binary_labels.csv', index_col='record_id')\n",
    "labels = labels[labels.sum().sort_values(ascending=False).head(10).index.tolist()]\n",
    "labels = labels[labels.sum(axis=1) > 0]\n",
    "reduced_id = labels.index.tolist()\n",
    "labels_name = labels.columns.tolist()"
   ]
  },
  {
   "cell_type": "code",
   "execution_count": 5,
   "metadata": {},
   "outputs": [],
   "source": [
    "features = dataset['text']\n",
    "features = features[features.index.isin(reduced_id)]"
   ]
  },
  {
   "cell_type": "code",
   "execution_count": 6,
   "metadata": {},
   "outputs": [
    {
     "data": {
      "text/plain": [
       "True"
      ]
     },
     "execution_count": 6,
     "metadata": {},
     "output_type": "execute_result"
    }
   ],
   "source": [
    "len(features) == len(labels)"
   ]
  },
  {
   "cell_type": "markdown",
   "metadata": {},
   "source": [
    "## Training and testing sets"
   ]
  },
  {
   "cell_type": "code",
   "execution_count": 7,
   "metadata": {},
   "outputs": [],
   "source": [
    "x_train, x_test, y_train, y_test = train_test_split(features, labels, test_size=0.3, shuffle=True)"
   ]
  },
  {
   "cell_type": "code",
   "execution_count": 8,
   "metadata": {},
   "outputs": [],
   "source": [
    "x_train = x_train.tolist()\n",
    "x_test = x_test.tolist()"
   ]
  },
  {
   "cell_type": "code",
   "execution_count": 9,
   "metadata": {},
   "outputs": [],
   "source": [
    "pipeline = Pipeline([\n",
    "    ('tfidf', TfidfVectorizer()),\n",
    "    ('clf', OneVsRestClassifier(LinearSVC(class_weight='balanced')))\n",
    "])\n",
    "parameters = {\n",
    "    'tfidf__max_df': (0.25,0.50,0.75),\n",
    "    \"clf__estimator__C\": [0.01, 0.1, 1]\n",
    "}"
   ]
  },
  {
   "cell_type": "code",
   "execution_count": 10,
   "metadata": {
    "scrolled": true
   },
   "outputs": [
    {
     "name": "stdout",
     "output_type": "stream",
     "text": [
      "Fitting 2 folds for each of 9 candidates, totalling 18 fits\n",
      "[CV] clf__estimator__C=0.01, tfidf__max_df=0.25 ......................\n",
      "[CV] clf__estimator__C=0.01, tfidf__max_df=0.25 ......................\n",
      "[CV]  clf__estimator__C=0.01, tfidf__max_df=0.25, score=0.02324431256181998, total= 1.4min\n",
      "[CV] clf__estimator__C=0.01, tfidf__max_df=0.5 .......................\n",
      "[CV]  clf__estimator__C=0.01, tfidf__max_df=0.25, score=0.02225886232481451, total= 1.3min\n",
      "[CV] clf__estimator__C=0.01, tfidf__max_df=0.5 .......................\n",
      "[CV]  clf__estimator__C=0.01, tfidf__max_df=0.5, score=0.023409165842400263, total=  58.9s\n",
      "[CV] clf__estimator__C=0.01, tfidf__max_df=0.75 ......................\n",
      "[CV]  clf__estimator__C=0.01, tfidf__max_df=0.5, score=0.01978565539983512, total=  59.2s\n",
      "[CV] clf__estimator__C=0.01, tfidf__max_df=0.75 ......................\n",
      "[CV]  clf__estimator__C=0.01, tfidf__max_df=0.75, score=0.025222551928783383, total=  55.9s\n",
      "[CV]  clf__estimator__C=0.01, tfidf__max_df=0.75, score=0.01995053586150041, total=  54.5s\n",
      "[CV] clf__estimator__C=0.1, tfidf__max_df=0.25 .......................\n",
      "[CV] clf__estimator__C=0.1, tfidf__max_df=0.25 .......................\n",
      "[CV]  clf__estimator__C=0.1, tfidf__max_df=0.25, score=0.03560830860534125, total=  53.5s\n",
      "[CV]  clf__estimator__C=0.1, tfidf__max_df=0.25, score=0.035614179719703216, total=  53.7s\n",
      "[CV] clf__estimator__C=0.1, tfidf__max_df=0.5 ........................\n",
      "[CV] clf__estimator__C=0.1, tfidf__max_df=0.5 ........................\n",
      "[CV]  clf__estimator__C=0.1, tfidf__max_df=0.5, score=0.03132212331025387, total=  56.6s\n",
      "[CV]  clf__estimator__C=0.1, tfidf__max_df=0.5, score=0.029348722176422093, total=  53.8s\n",
      "[CV] clf__estimator__C=0.1, tfidf__max_df=0.75 .......................\n",
      "[CV] clf__estimator__C=0.1, tfidf__max_df=0.75 .......................\n",
      "[CV]  clf__estimator__C=0.1, tfidf__max_df=0.75, score=0.02934388394329047, total=  46.9s\n",
      "[CV] clf__estimator__C=1, tfidf__max_df=0.25 .........................\n",
      "[CV]  clf__estimator__C=0.1, tfidf__max_df=0.75, score=0.027699917559769166, total=  44.9s\n",
      "[CV] clf__estimator__C=1, tfidf__max_df=0.25 .........................\n",
      "[CV]  clf__estimator__C=1, tfidf__max_df=0.25, score=0.0511045169798879, total= 1.0min\n",
      "[CV]  clf__estimator__C=1, tfidf__max_df=0.25, score=0.05457543281121187, total= 1.1min\n",
      "[CV] clf__estimator__C=1, tfidf__max_df=0.5 ..........................\n",
      "[CV] clf__estimator__C=1, tfidf__max_df=0.5 ..........................\n",
      "[CV]  clf__estimator__C=1, tfidf__max_df=0.5, score=0.047312891526541376, total= 1.2min\n",
      "[CV]  clf__estimator__C=1, tfidf__max_df=0.5, score=0.049134377576257215, total= 1.2min\n",
      "[CV] clf__estimator__C=1, tfidf__max_df=0.75 .........................\n",
      "[CV] clf__estimator__C=1, tfidf__max_df=0.75 .........................\n",
      "[CV]  clf__estimator__C=1, tfidf__max_df=0.75, score=0.04286185295087372, total= 2.0min\n",
      "[CV]  clf__estimator__C=1, tfidf__max_df=0.75, score=0.04748557295960429, total= 2.1min\n"
     ]
    },
    {
     "name": "stderr",
     "output_type": "stream",
     "text": [
      "[Parallel(n_jobs=2)]: Done  18 out of  18 | elapsed: 15.8min finished\n"
     ]
    },
    {
     "data": {
      "text/plain": [
       "GridSearchCV(cv=2, error_score='raise',\n",
       "       estimator=Pipeline(memory=None,\n",
       "     steps=[('tfidf', TfidfVectorizer(analyzer='word', binary=False, decode_error='strict',\n",
       "        dtype=<class 'numpy.int64'>, encoding='utf-8', input='content',\n",
       "        lowercase=True, max_df=1.0, max_features=None, min_df=1,\n",
       "        ngram_range=(1, 1), norm='l2', preprocessor=None, smooth_idf=True,\n",
       " ...lti_class='ovr', penalty='l2', random_state=None, tol=0.0001,\n",
       "     verbose=0),\n",
       "          n_jobs=1))]),\n",
       "       fit_params=None, iid=True, n_jobs=2,\n",
       "       param_grid={'tfidf__max_df': (0.25, 0.5, 0.75), 'clf__estimator__C': [0.01, 0.1, 1]},\n",
       "       pre_dispatch='2*n_jobs', refit=True, return_train_score='warn',\n",
       "       scoring=None, verbose=3)"
      ]
     },
     "execution_count": 10,
     "metadata": {},
     "output_type": "execute_result"
    }
   ],
   "source": [
    "grid_search_tune = GridSearchCV(\n",
    "    pipeline, parameters, cv=2, n_jobs=2, verbose=3)\n",
    "grid_search_tune.fit(x_train, y_train)"
   ]
  },
  {
   "cell_type": "code",
   "execution_count": 11,
   "metadata": {},
   "outputs": [
    {
     "name": "stdout",
     "output_type": "stream",
     "text": [
      "Best parameters set:\n",
      "[('tfidf', TfidfVectorizer(analyzer='word', binary=False, decode_error='strict',\n",
      "        dtype=<class 'numpy.int64'>, encoding='utf-8', input='content',\n",
      "        lowercase=True, max_df=0.25, max_features=None, min_df=1,\n",
      "        ngram_range=(1, 1), norm='l2', preprocessor=None, smooth_idf=True,\n",
      "        stop_words=None, strip_accents=None, sublinear_tf=False,\n",
      "        token_pattern='(?u)\\\\b\\\\w\\\\w+\\\\b', tokenizer=None, use_idf=True,\n",
      "        vocabulary=None)), ('clf', OneVsRestClassifier(estimator=LinearSVC(C=1, class_weight='balanced', dual=True, fit_intercept=True,\n",
      "     intercept_scaling=1, loss='squared_hinge', max_iter=1000,\n",
      "     multi_class='ovr', penalty='l2', random_state=None, tol=0.0001,\n",
      "     verbose=0),\n",
      "          n_jobs=1))]\n",
      "Applying best classifier on test data:\n",
      "                         precision    recall  f1-score   support\n",
      "\n",
      "PEACEKEEPING OPERATIONS       0.32      0.33      0.33      1580\n",
      "      INTERNAL SECURITY       0.36      0.36      0.36      1540\n",
      "  MIDDLE EAST SITUATION       0.21      0.25      0.23       968\n",
      "              TERRORISM       0.28      0.35      0.31       946\n",
      "              SANCTIONS       0.21      0.22      0.21       892\n",
      "   SANCTIONS COMPLIANCE       0.18      0.20      0.19       779\n",
      "        ARMED INCIDENTS       0.19      0.23      0.20       744\n",
      "HUMANITARIAN ASSISTANCE       0.15      0.15      0.15       762\n",
      "      COUNTER-TERRORISM       0.26      0.35      0.30       724\n",
      "                 ISRAEL       0.17      0.18      0.18       704\n",
      "\n",
      "            avg / total       0.25      0.28      0.26      9639\n",
      "\n"
     ]
    }
   ],
   "source": [
    "print(\"Best parameters set:\")\n",
    "print(grid_search_tune.best_estimator_.steps)\n",
    "\n",
    "# measuring performance on test set\n",
    "print(\"Applying best classifier on test data:\")\n",
    "best_clf = grid_search_tune.best_estimator_\n",
    "predictions = best_clf.predict(x_test)\n",
    "print(classification_report(y_test, predictions, target_names=labels_name))"
   ]
  },
  {
   "cell_type": "code",
   "execution_count": null,
   "metadata": {},
   "outputs": [],
   "source": []
  }
 ],
 "metadata": {
  "kernelspec": {
   "display_name": "Python 3",
   "language": "python",
   "name": "python3"
  },
  "language_info": {
   "codemirror_mode": {
    "name": "ipython",
    "version": 3
   },
   "file_extension": ".py",
   "mimetype": "text/x-python",
   "name": "python",
   "nbconvert_exporter": "python",
   "pygments_lexer": "ipython3",
   "version": "3.6.4"
  }
 },
 "nbformat": 4,
 "nbformat_minor": 2
}
